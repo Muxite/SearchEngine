{
 "cells": [
  {
   "cell_type": "code",
   "execution_count": null,
   "id": "initial_id",
   "metadata": {
    "collapsed": true
   },
   "outputs": [],
   "source": [
    "import threading\n",
    "import queue\n",
    "import time"
   ]
  },
  {
   "metadata": {},
   "cell_type": "code",
   "outputs": [],
   "execution_count": null,
   "source": [
    "def test_main():\n",
    "    in_queue = queue.Queue()\n",
    "    out_queue = queue.Queue()\n",
    "    def worker():\n",
    "        while True:\n",
    "            item = in_queue.get()\n",
    "            if item is None:\n",
    "                break\n",
    "            out_queue.put_nowait(process_item(item))\n",
    "            in_queue.task_done()\n",
    "        in_queue.task_done()\n",
    "\n",
    "    threading.Thread(target=worker).start()\n",
    "    for i in range(100):\n",
    "        in_queue.put(i)\n",
    "\n",
    "    return out_queue"
   ],
   "id": "57c2d9c42fadd0a5"
  },
  {
   "metadata": {},
   "cell_type": "code",
   "outputs": [],
   "execution_count": null,
   "source": [
    "def process_item(item):\n",
    "    return item * 2\n",
    "\n",
    "out_queue = test_main()\n",
    "while not out_queue.empty():\n",
    "    print(out_queue.get())\n",
    "    time.sleep(0.1)  # Delay for demonstration purposes"
   ],
   "id": "bb797b74900cd818"
  },
  {
   "metadata": {},
   "cell_type": "code",
   "outputs": [],
   "execution_count": null,
   "source": "",
   "id": "4fc310b98f4d6d78"
  }
 ],
 "metadata": {
  "kernelspec": {
   "display_name": "Python 3",
   "language": "python",
   "name": "python3"
  },
  "language_info": {
   "codemirror_mode": {
    "name": "ipython",
    "version": 2
   },
   "file_extension": ".py",
   "mimetype": "text/x-python",
   "name": "python",
   "nbconvert_exporter": "python",
   "pygments_lexer": "ipython2",
   "version": "2.7.6"
  }
 },
 "nbformat": 4,
 "nbformat_minor": 5
}
